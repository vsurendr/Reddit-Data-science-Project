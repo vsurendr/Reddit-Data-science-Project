{
 "cells": [
  {
   "cell_type": "code",
   "execution_count": 14,
   "metadata": {
    "collapsed": true
   },
   "outputs": [],
   "source": [
    "import re\n",
    "import string\n",
    "\n",
    "\n",
    "def clean_text(text):\n",
    "    # Remove unicode characters\n",
    "    text = re.sub('[^\\x00-\\x7F]+', '', text)\n",
    "    # Convert to python ASCII string\n",
    "    text = str(text.encode('ascii'))\n",
    "    # Convert to lowercase\n",
    "    text = text.lower()\n",
    "    # Remove new line characters\n",
    "    text = text.replace('\\n',' ')\n",
    "    # Remove links\n",
    "    text = re.sub('http\\S+', '', text)\n",
    "    # Remove punctuation \n",
    "    to_remove = string.punctuation\n",
    "    text = re.sub('['+to_remove+']+', '', text)\n",
    "    # Remove numbers\n",
    "    text = re.sub('\\d', '', text)\n",
    "    return text\n",
    "\n",
    "def clean_text_partial(text):\n",
    "    # Remove unicode characters\n",
    "    text = re.sub('[^\\x00-\\x7F]+', '', text)\n",
    "    # Convert to python ASCII string\n",
    "    text = str(text.encode('ascii'))\n",
    "    # Remove new line characters\n",
    "    text = text.replace('\\n',' ')\n",
    "    # Remove links\n",
    "    text = re.sub('http\\S+', '', text)\n",
    "    # Remove punctuation \n",
    "    to_remove = string.punctuation\n",
    "    text = re.sub('['+to_remove+']+', '', text)\n",
    "    text = text.replace(',','')\n",
    "    return text\n",
    "        \n",
    "\n",
    "def clean_dictionary(dictionary):\n",
    "    for _, value in dictionary.items():\n",
    "        value['title'] = clean_text(value['title'])\n",
    "        comments = value['comments']\n",
    "        for i in range(len(comments)):\n",
    "             comments[i] = clean_text(comments[i])\n",
    "        value['comments'] = comments\n",
    "    return dictionary\n",
    "\n",
    "def pos_tag(doc):\n",
    "    pos = []\n",
    "    for d in doc:\n",
    "        pos.append(nltk.pos_tag(d))\n",
    "    return pos\n",
    "\n",
    "\n",
    "def eliminate_pos(pos, chosen):\n",
    "    keep_list = []\n",
    "    for d in pos:\n",
    "        keep = [word[0] for word in d if word[1] in chosen]\n",
    "        keep_list.append(keep)\n",
    "    return keep_list"
   ]
  },
  {
   "cell_type": "markdown",
   "metadata": {},
   "source": [
    "# Retrieve data from MongoDB"
   ]
  },
  {
   "cell_type": "code",
   "execution_count": 15,
   "metadata": {
    "collapsed": false
   },
   "outputs": [],
   "source": [
    "import pymongo\n",
    "from pymongo import MongoClient\n",
    "\n",
    "client = MongoClient('localhost', 27017)\n",
    "db = client.reddit_database\n",
    "collection_top = db.reddit_top\n",
    "collection_contro = db.reddit_contro"
   ]
  },
  {
   "cell_type": "code",
   "execution_count": 16,
   "metadata": {
    "collapsed": false
   },
   "outputs": [
    {
     "name": "stdout",
     "output_type": "stream",
     "text": [
      "2212\n",
      "1962\n"
     ]
    }
   ],
   "source": [
    "print collection_contro.count()\n",
    "print collection_top.count()"
   ]
  },
  {
   "cell_type": "code",
   "execution_count": 17,
   "metadata": {
    "collapsed": true
   },
   "outputs": [],
   "source": [
    "def stem(string):\n",
    "    words = string.split()\n",
    "    stemmed = []\n",
    "    for word in words:\n",
    "        stemmed.append(PorterStemmer().stem(word))\n",
    "    return ' '.join(stemmed)\n",
    "\n",
    "\n",
    "def create_docs(collection, how, to_stem=False):\n",
    "    docs = []\n",
    "    for d in collection.find():\n",
    "        # this if part not adjusted \n",
    "        if how == 'sep':\n",
    "            if to_stem:\n",
    "                docs.append(stem(clean_text(d['title'])))\n",
    "            else:\n",
    "                docs.append(clean_text(d['title']))\n",
    "            if to_stem:\n",
    "                comments_only = [stem(clean_text(x[0])) for x in d['comments']]\n",
    "            else:\n",
    "                comments_only = [clean_text(x[0]) for x in d['comments']]\n",
    "            docs.extend(comments_only)\n",
    "        # adjusted to clean text after\n",
    "        else:\n",
    "            if to_stem:\n",
    "                title = stem(title)\n",
    "            else:\n",
    "                title = clean_text(d['title'])\n",
    "            comments = ' '\n",
    "            for c in d['comments']:\n",
    "                if to_stem:\n",
    "                    comments = comments + ' ' + stem(clean_text(c[0]))\n",
    "                else:\n",
    "                    comments = comments + ' ' + clean_text(c[0])\n",
    "            docs.append(title + comments)\n",
    "    return docs\n",
    "\n",
    "\n",
    "def create_docs_preclean(collection, how, to_stem=False):\n",
    "    docs = []\n",
    "    for d in collection.find():\n",
    "        # this if part not adjusted \n",
    "        if how == 'sep':\n",
    "            if to_stem:\n",
    "                docs.append(stem(clean_text_partial(d['title'])))\n",
    "            else:\n",
    "                docs.append(clean_text_partial(d['title']))\n",
    "            if to_stem:\n",
    "                comments_only = [stem(clean_text_partial(x[0])) for x in d['comments']]\n",
    "            else:\n",
    "                comments_only = [clean_text_partial(x[0]) for x in d['comments']]\n",
    "            docs.extend(comments_only)\n",
    "        # adjusted to clean text after\n",
    "        else:\n",
    "            if to_stem:\n",
    "                title = stem(title)\n",
    "            else:\n",
    "                title = clean_text_partial(d['title'])\n",
    "            comments = ' '\n",
    "            for c in d['comments']:\n",
    "                if to_stem:\n",
    "                    comments = comments + ' ' + stem(clean_text_partial(c[0]))\n",
    "                else:\n",
    "                    comments = comments + ' ' + clean_text_partial(c[0])\n",
    "            docs.append(title + comments)\n",
    "    return docs\n",
    "\n",
    "def create_titles(collection, how, to_stem=False):\n",
    "    docs = []\n",
    "    for d in collection.find():\n",
    "        # this if part not adjusted \n",
    "        if how == 'sep':\n",
    "            if to_stem:\n",
    "                docs.append(stem(clean_text_partial(d['title'])))\n",
    "            else:\n",
    "                docs.append(clean_text_partial(d['title']))\n",
    "            if to_stem:\n",
    "                comments_only = [stem(clean_text_partial(x[0])) for x in d['comments']]\n",
    "            else:\n",
    "                comments_only = [clean_text_partial(x[0]) for x in d['comments']]\n",
    "            docs.extend(comments_only)\n",
    "        # adjusted to clean text after\n",
    "        else:\n",
    "            if to_stem:\n",
    "                title = stem(title)\n",
    "            else:\n",
    "                title = clean_text_partial(d['title'])\n",
    "            docs.append(title)\n",
    "    return docs"
   ]
  },
  {
   "cell_type": "code",
   "execution_count": 18,
   "metadata": {
    "collapsed": false
   },
   "outputs": [],
   "source": [
    "contro_tfidf = list(set(create_docs(collection_contro, how ='together')))\n",
    "top_tfidf = list(set(create_docs(collection_top, how ='together')))\n",
    "\n",
    "contro_preclean = list(set(create_docs_preclean(collection_contro, how='together')))\n",
    "top_preclean = list(set(create_docs_preclean(collection_top, how='together')))\n",
    "\n",
    "# contro_preclean_title = list(create_titles(collection_contro, how='together'))\n",
    "# top_preclean_title = list(create_titles(collection_top, how='together'))"
   ]
  },
  {
   "cell_type": "code",
   "execution_count": 8,
   "metadata": {
    "collapsed": false
   },
   "outputs": [
    {
     "name": "stdout",
     "output_type": "stream",
     "text": [
      "1962\n",
      "1962\n"
     ]
    }
   ],
   "source": [
    "print len(top_tfidf)\n",
    "# print len(top_preclean_title)\n",
    "print len(top_preclean)"
   ]
  },
  {
   "cell_type": "markdown",
   "metadata": {},
   "source": [
    "## Get rid of posts in both document lists"
   ]
  },
  {
   "cell_type": "code",
   "execution_count": 19,
   "metadata": {
    "collapsed": false
   },
   "outputs": [
    {
     "name": "stdout",
     "output_type": "stream",
     "text": [
      "53\n",
      "53\n"
     ]
    }
   ],
   "source": [
    "# RUN TWICE\n",
    "count = 0\n",
    "for c in contro_tfidf:\n",
    "    for t in top_tfidf:\n",
    "        if c == t:\n",
    "            count += 1\n",
    "            top_tfidf.remove(t)\n",
    "print count\n",
    "\n",
    "count2 = 0\n",
    "for c in contro_preclean:\n",
    "    for t in top_preclean:\n",
    "        if c == t:\n",
    "            count2 += 1\n",
    "            top_preclean.remove(t)\n",
    "print count2"
   ]
  },
  {
   "cell_type": "markdown",
   "metadata": {
    "collapsed": true
   },
   "source": [
    "# NMF"
   ]
  },
  {
   "cell_type": "code",
   "execution_count": 58,
   "metadata": {
    "collapsed": false,
    "scrolled": false
   },
   "outputs": [
    {
     "name": "stdout",
     "output_type": "stream",
     "text": [
      "Total variance:  6.94e-18\n"
     ]
    },
    {
     "data": {
      "image/png": "[encoded data removed]",
      "text/plain": [
       "<matplotlib.figure.Figure at 0x114d8abd0>"
      ]
     },
     "metadata": {},
     "output_type": "display_data"
    }
   ],
   "source": [
    "concise = ['Life','Internet','Cats','Dogs','Movies','Gaming','Youtube','Men (Negative)',\n",
    " 'Music','Politics','Reddit','School','Unknown','Foreign Affairs',\n",
    " 'Gender / Race','NSFW - Male','Automobile','Books','Game of Thrones','Race Jokes',\n",
    " 'Family','Money / Business','Social Media','Outer Space','Environment',\n",
    " 'NSFW - Female','Food','TV','Internet / Videos','Positive Words','Stories',\n",
    " 'Photos','Bears','Unknown','Aww']\n",
    "\n",
    "plt.figure(figsize=(20,10))\n",
    "plt.bar(xs, y_top2, 0.35, label = 'top', color='b')\n",
    "plt.bar(xs + 0.35, y_contro2, 0.35, label = 'controversial', color='r')\n",
    "plt.xlabel('Topic', size = 17)\n",
    "plt.ylabel('Percent of Posts', size = 17)\n",
    "plt.xticks(xs + 0.4,concise, size = 15, rotation = 90)\n",
    "plt.yticks(size = 15)\n",
    "plt.legend()\n",
    "plt.xlim(0,len(y_top2))\n",
    "\n",
    "ax = plt.gca()\n",
    "pos1 = ax.get_position()\n",
    "pos2 = [pos1.x0 - .06, pos1.y0 + .11,  pos1.width + .14, pos1.height - .04]\n",
    "ax.set_position(pos2)\n",
    "\n",
    "plt.savefig('img/topic_counts')\n",
    "\n",
    "print 'Total variance: ', round(sum(np.array(y_top2) - np.array(y_contro2)),20)"
   ]
  },
  {
   "cell_type": "code",
   "execution_count": null,
   "metadata": {
    "collapsed": false
   },
   "outputs": [],
   "source": [
    "indices = np.where(np.array(topics_contro) == 2.)[0]\n",
    "for index in indices:\n",
    "    print contro_tfidf[index]\n",
    "#     print 'cat' in contro_tfidf[index]\n",
    "    print"
   ]
  },
  {
   "cell_type": "code",
   "execution_count": 28,
   "metadata": {
    "collapsed": false
   },
   "outputs": [],
   "source": [
    "topic_range = np.arange(0, len(y_top2))\n",
    "NUM_CHARS = 220\n",
    "# 220\n",
    "top_reddits_contro1 = []\n",
    "top_reddits_contro2 = []\n",
    "top_reddits_contro3 = []\n",
    "top_reddits_top1 = []\n",
    "top_reddits_top2 = []\n",
    "top_reddits_top3 = []\n",
    "for i in topic_range:\n",
    "    assigned_topic_contro = [x for x in topics_contro if x[0] == i]\n",
    "    max1_contro = max(assigned_topic_contro, key=lambda x: x[1])\n",
    "    assigned_topic_contro.remove(max1_contro)\n",
    "    max2_contro = max(assigned_topic_contro, key=lambda x: x[1])\n",
    "    assigned_topic_contro.remove(max2_contro)\n",
    "    max3_contro = max(assigned_topic_contro, key=lambda x: x[1])\n",
    "    assigned_topic_contro.remove(max3_contro)\n",
    "    reddit_post1_contro = contro_preclean[max1_contro[2]][:NUM_CHARS]\n",
    "    reddit_post2_contro = contro_preclean[max2_contro[2]][:NUM_CHARS]\n",
    "    reddit_post3_contro = contro_preclean[max3_contro[2]][:NUM_CHARS]\n",
    "    top_reddits_contro1.append(reddit_post1_contro)\n",
    "    top_reddits_contro2.append(reddit_post2_contro)\n",
    "    top_reddits_contro3.append(reddit_post3_contro)\n",
    "    \n",
    "    assigned_topic_top = [x for x in topics_top if x[0] == i]\n",
    "    max1_top = max(assigned_topic_top, key=lambda x: x[1])\n",
    "    assigned_topic_top.remove(max1_top)\n",
    "    max2_top = max(assigned_topic_top, key=lambda x: x[1])\n",
    "    assigned_topic_top.remove(max2_top)\n",
    "    max3_top = max(assigned_topic_top, key=lambda x: x[1])\n",
    "    assigned_topic_top.remove(max3_top)\n",
    "    reddit_post1_top = top_preclean[max1_top[2]][:NUM_CHARS]\n",
    "    reddit_post2_top = top_preclean[max2_top[2]][:NUM_CHARS]\n",
    "    reddit_post3_top = top_preclean[max3_top[2]][:NUM_CHARS]\n",
    "    top_reddits_top1.append(reddit_post1_top)\n",
    "    top_reddits_top2.append(reddit_post2_top)\n",
    "    top_reddits_top3.append(reddit_post3_top)"
   ]
  },
  {
   "cell_type": "code",
   "execution_count": 22,
   "metadata": {
    "collapsed": false
   },
   "outputs": [
    {
     "data": {
      "text/plain": [
       "'TIL in 2005 at a nuclear weapon assemblydisassembly plant near Amarillo TX workers attempting to disassemble a bomb 100 times more powerful than the Hiroshima bomb nearly detonated it when they applied too much pressure '"
      ]
     },
     "execution_count": 22,
     "metadata": {},
     "output_type": "execute_result"
    }
   ],
   "source": [
    "top_reddits_top1[0]"
   ]
  },
  {
   "cell_type": "code",
   "execution_count": 60,
   "metadata": {
    "collapsed": false,
    "scrolled": false
   },
   "outputs": [
    {
     "name": "stdout",
     "output_type": "stream",
     "text": [
      "Topic #0:\n",
      "life youre feel person world live cancer doing care help\n",
      "Topic #1:\n",
      "direct link submitted users mobile benefit image feedback exist source\n",
      "Topic #2:\n",
      "cat cats kitty kitten meow box human hes ocelot cute\n",
      "Topic #3:\n",
      "dog dogs pup owner breed pupper face animal wolf couch\n",
      "Topic #4:\n",
      "movie trailer movies film ghostbusters films watch trailers character story\n",
      "Topic #5:\n",
      "game games play overwatch playing played pc uncharted ps witcher\n",
      "Topic #6:\n",
      "press hydraulic channel crushing subscribers million youtube extinguisher crush manual\n",
      "Topic #7:\n",
      "man ugly old oh hey face orange god jesus knock\n",
      "Topic #8:\n",
      "song music album band songs rock creep radiohead video favorite\n",
      "Topic #9:\n",
      "trump hillary donald clinton bernie president vote hes obama sanders\n",
      "Topic #10:\n",
      "reddit post repost posts comments internet questions gif content ama\n",
      "Topic #11:\n",
      "school kids high kid schools students college parents teachers year\n",
      "Topic #12:\n",
      "baby poor horny beam jim elephant awesome bottle daughters otter\n",
      "Topic #13:\n",
      "feedback bot china war summary tldrs pms keywords constructive faq\n",
      "Topic #14:\n",
      "women men woman gender female male sexual sexism rape article\n",
      "Topic #15:\n",
      "nsfw psbattle fast compilation hands deleted small porn shes classy\n",
      "Topic #16:\n",
      "car cars driving drive truck parking lane driver speed traffic\n",
      "Topic #17:\n",
      "books book read reading series story dan characters fiction writing\n",
      "Topic #18:\n",
      "door hodor hold elevator soon spoilers today spoiler thrones button\n",
      "Topic #19:\n",
      "joke funny racist black jokes punchline whats repost race laugh\n",
      "Topic #20:\n",
      "dad mom family parents kid father ball son mother told\n",
      "Topic #21:\n",
      "money pay job buy house tax company insurance rich year\n",
      "Topic #22:\n",
      "friend friends best cool snapchat trouble called homo cancer face\n",
      "Topic #23:\n",
      "moon mars space earth planet humans alien nasa aliens moons\n",
      "Topic #24:\n",
      "water climate temperature ice global change warming hot acid use\n",
      "Topic #25:\n",
      "girl sex shes girls hot porn dick ass wife ex\n",
      "Topic #26:\n",
      "eat food chicken cheese delicious cake pizza meat sauce vegan\n",
      "Topic #27:\n",
      "season episode watch shows characters tv bad episodes series netflix\n",
      "Topic #28:\n",
      "guy video hes videos funny dude youtube guys drunk fucking\n",
      "Topic #29:\n",
      "nice lol job awesome amazing beautiful style wow drone post\n",
      "Topic #30:\n",
      "said night head went sleep room phone eyes away long\n",
      "Topic #31:\n",
      "picture photo beautiful shot oc daughter took pic amazing cool\n",
      "Topic #32:\n",
      "bear bears grizzly berenstain teddy berenstein polar hybrid grizzlypolar climate\n",
      "Topic #33:\n",
      "happy birthday cake oc elephant raider meat makes week doom\n",
      "Topic #34:\n",
      "cute puppy adorable meet puppies pup old eyes watermelon cuddles\n",
      "['said night head went sleep room phone eyes away long'\n",
      " 'Civil War Made Some of the Same Mistakes as Batman v Superman  I stopped reading after the author claims that Crossbones Embraced the terrorist route after having a building dropped on him without acknowledging that Ruml'\n",
      " 'TIL in 2005 at a nuclear weapon assemblydisassembly plant near Amarillo TX workers attempting to disassemble a bomb 100 times more powerful than the Hiroshima bomb nearly detonated it when they applied too much pressure '\n",
      " 'what is the first thing youd say to a 26 year old man after they tell you that they have never ever had a job  Do you have a trust fund Lucky bastard  and that was the day  I kidnapped him and took over his life I used t'\n",
      " 'First image of Katherine Waterston in Alien Covenant  Well it certainly has the look of an Alien film I want this too be good so bad I liked the majority of the Alien films and hell I even liked Prometheus   Plus Im a su'\n",
      " 'You had one job EA  Aaaand SIMS 4 main game is PC only Im borderline OCD  That would drive me freakin nuts  I would probably modify the cover Pls gib your origin account for sharesies ty'\n",
      " 'The Classic RussDaughters NYC  What is that smoked salmon 25 dollar lunch right there My wife was jealous I was in NY for the week without her I brought home a dozen Russ  Daughters bagels as a souvenir Now I can go back'\n",
      " 'Stories' '0.0141477335982' '0.00699168369845']\n"
     ]
    },
    {
     "data": {
      "image/png": "[encoded data removed]",
      "text/plain": [
       "<matplotlib.figure.Figure at 0x11278f7d0>"
      ]
     },
     "metadata": {},
     "output_type": "display_data"
    }
   ],
   "source": [
    "concise = ['Life','Internet','Cats','Dogs','Movies','Gaming','Youtube','Men (Negative)',\n",
    " 'Music','Politics','Reddit','School','Unknown','Foreign Affairs',\n",
    " 'Gender / Race','NSFW - Male','Automobile','Books','Game of Thrones','Race Jokes',\n",
    " 'Family','Money / Business','Social Media','Outer Space','Environment',\n",
    " 'NSFW - Female','Food','TV','Internet / Videos','Positive Words','Stories',\n",
    " 'Photos','Bears','Unknown','Aww']\n",
    "\n",
    "\n",
    "avg_across_topics_contro = np.mean(nmf_transformed[:len(contro_tfidf)], axis=0)\n",
    "avg_across_topics_top = np.mean(nmf_transformed[len(contro_tfidf):], axis=0)\n",
    "\n",
    "xss = np.arange(len(avg_across_topics_contro))\n",
    "\n",
    "topics_w_index = zip(concise, xss)\n",
    "\n",
    "topic_words = print_top_words(nmf, tfidf_vectorizer.get_feature_names(), 10)\n",
    "topic_words = [str(word) for word in topic_words]\n",
    "tpzip = zip(topic_words, xss)\n",
    "\n",
    "\n",
    "wi = zip(avg_across_topics_contro, xss)\n",
    "wi_sorted = sorted(list(wi), reverse=True)\n",
    "wi2 = zip(avg_across_topics_contro, avg_across_topics_top, xss)\n",
    "diff = [(x[0]-x[1],x[2]) for x in wi2]\n",
    "diff_sorted = sorted(list(diff), reverse=True)\n",
    "\n",
    "# sorted_contro = np.array([x[0] for x in wi_sorted])\n",
    "sorted_index = np.array([x[1] for x in diff_sorted])\n",
    "\n",
    "sorted_top = []\n",
    "sorted_contro = []\n",
    "sorted_topics = []\n",
    "sorted_index_words = []\n",
    "for i in sorted_index:\n",
    "    # top\n",
    "    num = [x[1] for x in wi2 if x[2] == i]\n",
    "    sorted_top.append(num[0])\n",
    "    # contro\n",
    "    num2 = [x[0] for x in wi2 if x[2] == i]\n",
    "    sorted_contro.append(num2[0])\n",
    "    # topic words\n",
    "    topic = [x[0] for x in tpzip if x[1] == i]\n",
    "    sorted_topics.append(topic[0])\n",
    "    # topic categories\n",
    "    names = [x[0] for x in topics_w_index if x[1] == i]\n",
    "    sorted_index_words.append(names[0])\n",
    "    \n",
    "sorted_top = np.array(sorted_top)\n",
    "sorted_contro = np.array(sorted_contro)\n",
    "sorted_index_words = np.array(sorted_index_words)\n",
    "sorted_topics = np.array(sorted_topics)\n",
    "\n",
    "plt.figure(figsize=(10,5))\n",
    "plt.bar(xss, sorted_contro, 0.35, label = 'contro', color='r')\n",
    "plt.bar(xss + 0.35, sorted_top, 0.35, label = 'top', color='b')\n",
    "plt.xticks(xss + 0.4,sorted_index)\n",
    "plt.legend()\n",
    "plt.title('Average Topic Shares from NMF')\n",
    "\n",
    "# Save data to .tsv file\n",
    "np.set_printoptions(precision=8, suppress=True)\n",
    "complete = np.column_stack((sorted_topics, top_reddits_contro1, top_reddits_top1, top_reddits_contro2, top_reddits_top2,\n",
    "                            top_reddits_contro3, top_reddits_top3, sorted_index_words, sorted_contro, sorted_top))\n",
    "print complete[0]\n",
    "\n",
    "np.savetxt('reddit.csv',complete, delimiter=',',fmt = ('%s','%s','%s','%s','%s','%s','%s','%s','%s','%s'), \n",
    "            header='TopicWord,ControversialText1,PopularText1,ControversialText2,PopularText2,ControversialText3,PopularText3,TopicNum,Controversial,Popular', comments='')"
   ]
  },
  {
   "cell_type": "code",
   "execution_count": 56,
   "metadata": {
    "collapsed": false
   },
   "outputs": [
    {
     "data": {
      "image/png": "[encoded data removed]",
      "text/plain": [
       "<matplotlib.figure.Figure at 0x1104e8490>"
      ]
     },
     "metadata": {},
     "output_type": "display_data"
    }
   ],
   "source": [
    "from sklearn.utils.extmath import randomized_svd\n",
    "U, Sigma, VT = randomized_svd(dtm_tfidf, n_components=100, n_iter=5,\n",
    "                              random_state=4444)\n",
    "\n",
    "plt.plot(Sigma)\n",
    "plt.plot([35,35],[0,9])\n",
    "plt.title('Singular Values From Complex Matrix in SVD')\n",
    "plt.xlabel('Number of Components / Topics')\n",
    "plt.ylabel('Singular Values')\n",
    "plt.savefig('img/singular_values')"
   ]
  },
  {
   "cell_type": "markdown",
   "metadata": {},
   "source": [
    "# Clustering"
   ]
  },
  {
   "cell_type": "code",
   "execution_count": 243,
   "metadata": {
    "collapsed": true
   },
   "outputs": [],
   "source": [
    "from sklearn.cluster import KMeans\n",
    "\n",
    "km = KMeans(n_clusters=2)\n",
    "y_pred = km.fit_predict(nmf_transformed)"
   ]
  },
  {
   "cell_type": "code",
   "execution_count": 244,
   "metadata": {
    "collapsed": false
   },
   "outputs": [
    {
     "data": {
      "text/plain": [
       "<matplotlib.collections.PathCollection at 0x1115280d0>"
      ]
     },
     "execution_count": 244,
     "metadata": {},
     "output_type": "execute_result"
    },
    {
     "data": {
      "image/png": "[encoded data removed]",
      "text/plain": [
       "<matplotlib.figure.Figure at 0x1154c7190>"
      ]
     },
     "metadata": {},
     "output_type": "display_data"
    }
   ],
   "source": [
    "plt.scatter(nmf_transformed[:,0], nmf_transformed[:,1], c=y_pred)"
   ]
  },
  {
   "cell_type": "markdown",
   "metadata": {},
   "source": [
    "# Classifier"
   ]
  },
  {
   "cell_type": "code",
   "execution_count": 498,
   "metadata": {
    "collapsed": false
   },
   "outputs": [],
   "source": [
    "import pandas as pd\n",
    "df = pd.DataFrame(nmf_transformed)\n",
    "df['class'] = np.zeros(len(nmf_transformed))"
   ]
  },
  {
   "cell_type": "code",
   "execution_count": 502,
   "metadata": {
    "collapsed": false
   },
   "outputs": [],
   "source": [
    "df.ix[:len(topics_contro),'class'] = 1.0"
   ]
  },
  {
   "cell_type": "code",
   "execution_count": 506,
   "metadata": {
    "collapsed": true
   },
   "outputs": [],
   "source": [
    "from sklearn.cross_validation import train_test_split\n",
    "X = df.ix[:,:-1]\n",
    "y = df['class']"
   ]
  },
  {
   "cell_type": "code",
   "execution_count": 509,
   "metadata": {
    "collapsed": false
   },
   "outputs": [],
   "source": [
    "X_train, X_test, y_train, y_test = train_test_split(X, y, test_size = 0.3, random_state = 4444)"
   ]
  },
  {
   "cell_type": "code",
   "execution_count": 529,
   "metadata": {
    "collapsed": false
   },
   "outputs": [
    {
     "data": {
      "text/plain": [
       "SVC(C=1.0, cache_size=200, class_weight=None, coef0=0.0,\n",
       "  decision_function_shape=None, degree=3, gamma='auto', kernel='poly',\n",
       "  max_iter=-1, probability=False, random_state=None, shrinking=True,\n",
       "  tol=0.001, verbose=False)"
      ]
     },
     "execution_count": 529,
     "metadata": {},
     "output_type": "execute_result"
    }
   ],
   "source": [
    "from sklearn import svm\n",
    "clf = svm.SVC(kernel='poly')\n",
    "clf.fit(X_train, y_train)"
   ]
  },
  {
   "cell_type": "code",
   "execution_count": 530,
   "metadata": {
    "collapsed": false
   },
   "outputs": [
    {
     "data": {
      "text/plain": [
       "0.54397098821396195"
      ]
     },
     "execution_count": 530,
     "metadata": {},
     "output_type": "execute_result"
    }
   ],
   "source": [
    "clf.score(X_test, y_test)"
   ]
  },
  {
   "cell_type": "code",
   "execution_count": 531,
   "metadata": {
    "collapsed": false
   },
   "outputs": [
    {
     "data": {
      "text/plain": [
       "GaussianNB()"
      ]
     },
     "execution_count": 531,
     "metadata": {},
     "output_type": "execute_result"
    }
   ],
   "source": [
    "from sklearn.naive_bayes import GaussianNB\n",
    "gnb = GaussianNB()\n",
    "gnb.fit(X_train, y_train)"
   ]
  },
  {
   "cell_type": "code",
   "execution_count": 532,
   "metadata": {
    "collapsed": false
   },
   "outputs": [
    {
     "data": {
      "text/plain": [
       "0.60924750679963735"
      ]
     },
     "execution_count": 532,
     "metadata": {},
     "output_type": "execute_result"
    }
   ],
   "source": [
    "gnb.score(X_test, y_test)"
   ]
  },
  {
   "cell_type": "code",
   "execution_count": 547,
   "metadata": {
    "collapsed": false
   },
   "outputs": [
    {
     "data": {
      "text/plain": [
       "RandomForestClassifier(bootstrap=True, class_weight=None, criterion='gini',\n",
       "            max_depth=None, max_features='auto', max_leaf_nodes=None,\n",
       "            min_samples_leaf=1, min_samples_split=2,\n",
       "            min_weight_fraction_leaf=0.0, n_estimators=27, n_jobs=1,\n",
       "            oob_score=False, random_state=None, verbose=0,\n",
       "            warm_start=False)"
      ]
     },
     "execution_count": 547,
     "metadata": {},
     "output_type": "execute_result"
    }
   ],
   "source": [
    "from sklearn.ensemble import RandomForestClassifier\n",
    "rf = RandomForestClassifier(n_estimators=27)\n",
    "rf.fit(X_train, y_train)"
   ]
  },
  {
   "cell_type": "code",
   "execution_count": 548,
   "metadata": {
    "collapsed": false
   },
   "outputs": [
    {
     "data": {
      "text/plain": [
       "0.61106074342701722"
      ]
     },
     "execution_count": 548,
     "metadata": {},
     "output_type": "execute_result"
    }
   ],
   "source": [
    "rf.score(X_test, y_test)"
   ]
  },
  {
   "cell_type": "code",
   "execution_count": 586,
   "metadata": {
    "collapsed": false
   },
   "outputs": [
    {
     "data": {
      "text/plain": [
       "KNeighborsClassifier(algorithm='auto', leaf_size=30, metric='minkowski',\n",
       "           metric_params=None, n_jobs=1, n_neighbors=7, p=2,\n",
       "           weights='uniform')"
      ]
     },
     "execution_count": 586,
     "metadata": {},
     "output_type": "execute_result"
    }
   ],
   "source": [
    "from sklearn.neighbors import KNeighborsClassifier\n",
    "knn = KNeighborsClassifier(n_neighbors=7)\n",
    "knn.fit(X_train, y_train)"
   ]
  },
  {
   "cell_type": "code",
   "execution_count": 587,
   "metadata": {
    "collapsed": false
   },
   "outputs": [
    {
     "data": {
      "text/plain": [
       "0.59202175883952857"
      ]
     },
     "execution_count": 587,
     "metadata": {},
     "output_type": "execute_result"
    }
   ],
   "source": [
    "knn.score(X_test, y_test)"
   ]
  },
  {
   "cell_type": "code",
   "execution_count": null,
   "metadata": {
    "collapsed": true
   },
   "outputs": [],
   "source": []
  }
 ],
 "metadata": {
  "kernelspec": {
   "display_name": "Python 3",
   "language": "python",
   "name": "python3"
  },
  "language_info": {
   "codemirror_mode": {
    "name": "ipython",
    "version": 3
   },
   "file_extension": ".py",
   "mimetype": "text/x-python",
   "name": "python",
   "nbconvert_exporter": "python",
   "pygments_lexer": "ipython3",
   "version": "3.6.0"
  }
 },
 "nbformat": 4,
 "nbformat_minor": 0
}
